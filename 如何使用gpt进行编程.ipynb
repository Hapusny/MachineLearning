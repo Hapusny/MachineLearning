{
 "cells": [
  {
   "cell_type": "code",
   "execution_count": null,
   "metadata": {},
   "outputs": [],
   "source": [
    "pip install jupyter_contrib_nbextensions"
   ]
  },
  {
   "cell_type": "code",
   "execution_count": null,
   "metadata": {},
   "outputs": [],
   "source": [
    "jupyter contrib nbextension install"
   ]
  },
  {
   "cell_type": "code",
   "execution_count": null,
   "metadata": {},
   "outputs": [],
   "source": [
    "# 判断一个数是否为素数的函数\n",
    "def is_prime(n):\n",
    "    if n < 2:\n",
    "        return False\n",
    "    for i in range(2, int(n ** 0.5) + 1):\n",
    "        if n % i == 0:\n",
    "            return False\n",
    "    return True\n",
    "\n",
    "# 找出101到200之间的所有素数\n",
    "primes = [num for num in range(101, 201) if is_prime(num)]\n",
    "\n",
    "# 输出素数的总数和素数列表\n",
    "print(f\"素数的总数为: {len(primes)}\")\n",
    "print(\"素数分别是:\", primes)\n"
   ]
  },
  {
   "cell_type": "code",
   "execution_count": null,
   "metadata": {},
   "outputs": [],
   "source": [
    "# 输入一个整数 n\n",
    "n = int(input(\"请输入一个整数: \"))\n",
    "\n",
    "# 打印输出 n 以内的全部大于 0 的偶数\n",
    "print(\"n 以内的偶数为:\")\n",
    "for num in range(2, n + 1, 2):\n",
    "    print(num)\n"
   ]
  },
  {
   "cell_type": "code",
   "execution_count": null,
   "metadata": {},
   "outputs": [],
   "source": [
    "import tkinter as tk\n",
    "from tkinter import messagebox\n",
    "\n",
    "# 定义输出偶数的函数\n",
    "def display_even_numbers():\n",
    "    try:\n",
    "        n = int(entry.get())\n",
    "        if n < 1:\n",
    "            messagebox.showerror(\"错误\", \"请输入一个大于0的整数\")\n",
    "            return\n",
    "        even_numbers = [str(num) for num in range(2, n + 1, 2)]\n",
    "        result.set(\"偶数: \" + \", \".join(even_numbers))\n",
    "    except ValueError:\n",
    "        messagebox.showerror(\"错误\", \"请输入一个有效的整数\")\n",
    "\n",
    "# 创建主窗口\n",
    "window = tk.Tk()\n",
    "window.title(\"偶数输出程序\")\n",
    "\n",
    "# 创建输入框和标签\n",
    "tk.Label(window, text=\"请输入一个整数:\").pack(pady=10)\n",
    "entry = tk.Entry(window)\n",
    "entry.pack(pady=5)\n",
    "\n",
    "# 创建显示结果的文本框\n",
    "result = tk.StringVar()\n",
    "tk.Label(window, textvariable=result).pack(pady=10)\n",
    "\n",
    "# 创建按钮并绑定函数\n",
    "tk.Button(window, text=\"显示偶数\", command=display_even_numbers).pack(pady=10)\n",
    "\n",
    "# 运行窗口主循环\n",
    "window.mainloop()\n"
   ]
  },
  {
   "cell_type": "code",
   "execution_count": null,
   "metadata": {},
   "outputs": [],
   "source": [
    "import numpy as np\n",
    "import matplotlib.pyplot as plt\n",
    "\n",
    "# 随机生成100个0到100之间的数字\n",
    "random_numbers = np.random.randint(0, 101, 100)\n",
    "\n",
    "# 绘制直方图\n",
    "plt.figure(figsize=(8, 6))\n",
    "plt.hist(random_numbers, bins=10, edgecolor='black')\n",
    "plt.title('Histogram of Random Numbers')\n",
    "plt.xlabel('Number')\n",
    "plt.ylabel('Frequency')\n",
    "plt.show()"
   ]
  },
  {
   "cell_type": "code",
   "execution_count": null,
   "metadata": {},
   "outputs": [],
   "source": [
    "import tkinter as tk\n",
    "\n",
    "def print_even_numbers():\n",
    "    try:\n",
    "        n = int(entry.get())\n",
    "        if n < 1:\n",
    "            result_label.config(text=\"请输入大于0的整数\")\n",
    "        else:\n",
    "            even_numbers = [i for i in range(2, n+1, 2)]\n",
    "            result_label.config(text=f\"n以内的所有大于0的偶数有：{' '.join(map(str, even_numbers))}\")\n",
    "    except ValueError:\n",
    "        result_label.config(text=\"请输入有效的整数\")\n",
    "\n",
    "# 创建主窗口\n",
    "root = tk.Tk()\n",
    "root.title(\"偶数打印器\")\n",
    "\n",
    "# 创建输入框\n",
    "entry_label = tk.Label(root, text=\"请输入整数n：\")\n",
    "entry_label.pack()\n",
    "\n",
    "entry = tk.Entry(root)\n",
    "entry.pack()\n",
    "\n",
    "# 创建按钮\n",
    "button = tk.Button(root, text=\"打印偶数\", command=print_even_numbers)\n",
    "button.pack()\n",
    "\n",
    "# 创建结果标签\n",
    "result_label = tk.Label(root, text=\"\")\n",
    "result_label.pack()\n",
    "\n",
    "# 运行主循环\n",
    "root.mainloop()"
   ]
  },
  {
   "cell_type": "code",
   "execution_count": null,
   "metadata": {},
   "outputs": [],
   "source": [
    "import numpy as np\n",
    "\n",
    "# 系数 a, b, c 分别对应于 ax^2 + bx + c = 0\n",
    "a = 1\n",
    "b = -3\n",
    "c = 2\n",
    "\n",
    "# 计算判别式\n",
    "discriminant = b**2 - 4*a*c\n",
    "\n",
    "# 计算两个解\n",
    "x1 = (-b + np.sqrt(discriminant)) / (2*a)\n",
    "x2 = (-b - np.sqrt(discriminant)) / (2*a)\n",
    "\n",
    "# 输出解\n",
    "print(f\"方程的解是 x1 = {x1}, x2 = {x2}\")\n"
   ]
  },
  {
   "cell_type": "code",
   "execution_count": null,
   "metadata": {},
   "outputs": [],
   "source": [
    "import random\n",
    "\n",
    "# 生成一个1到100之间的随机数\n",
    "target_number = random.randint(1, 100)\n",
    "\n",
    "# 让用户不断猜数字，直到猜中为止\n",
    "while True:\n",
    "    try:\n",
    "        guess = int(input(\"猜一个1到100之间的数字: \"))\n",
    "        \n",
    "        if guess < target_number:\n",
    "            print(\"猜小了，再试一次!\")\n",
    "        elif guess > target_number:\n",
    "            print(\"猜大了，再试一次!\")\n",
    "        else:\n",
    "            print(f\"恭喜你，猜对了！数字是 {target_number}\")\n",
    "            break\n",
    "    except ValueError:\n",
    "        print(\"请输入一个有效的整数！\")\n"
   ]
  },
  {
   "cell_type": "code",
   "execution_count": null,
   "metadata": {},
   "outputs": [],
   "source": [
    "pip install --upgrade notebook==6.4.12"
   ]
  },
  {
   "cell_type": "code",
   "execution_count": null,
   "metadata": {},
   "outputs": [],
   "source": [
    "pip uninstall jupyter_nbextensions_configurator"
   ]
  },
  {
   "cell_type": "code",
   "execution_count": null,
   "metadata": {},
   "outputs": [],
   "source": []
  }
 ],
 "metadata": {
  "kernelspec": {
   "display_name": "Python 3",
   "language": "python",
   "name": "python3"
  },
  "language_info": {
   "codemirror_mode": {
    "name": "ipython",
    "version": 3
   },
   "file_extension": ".py",
   "mimetype": "text/x-python",
   "name": "python",
   "nbconvert_exporter": "python",
   "pygments_lexer": "ipython3",
   "version": "3.7.1"
  }
 },
 "nbformat": 4,
 "nbformat_minor": 5
}
